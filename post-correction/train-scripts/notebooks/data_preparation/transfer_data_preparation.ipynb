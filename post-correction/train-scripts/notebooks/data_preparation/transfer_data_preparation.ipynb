{
 "cells": [
  {
   "cell_type": "code",
   "execution_count": null,
   "metadata": {},
   "outputs": [],
   "source": [
    "#page 1-7 Train data for Recognition Model\n",
    "\n",
    "#50_big -- training data for LLM\n",
    "#test_big -- test data for LLM\n",
    "#val_big -- val data for LLM\n",
    "\n",
    "\n",
    "\n",
    "\n"
   ]
  },
  {
   "cell_type": "code",
   "execution_count": 7,
   "metadata": {},
   "outputs": [],
   "source": [
    "import csv\n",
    "from aksharamukha import transliterate\n",
    "import os\n",
    "import pandas as pd\n",
    "from sklearn.model_selection import KFold, train_test_split\n",
    "import random\n",
    "import ast\n",
    "import re"
   ]
  },
  {
   "cell_type": "code",
   "execution_count": 8,
   "metadata": {},
   "outputs": [],
   "source": [
    "repeat_data_number = 1\n",
    "experiment = f'messy_transferCheck_{repeat_data_number}x'\n",
    "synthetic_data = True\n",
    "\n",
    "#CHECK IF POST CORRECTION MODEL TRAINED ON BIG TRANSFER:\n",
    "#/home/ocr_proj/OCR/v09042024/line_images/test_clean\n",
    "#/home/ocr_proj/OCR/v09042024/line_images/test_messy\n",
    "test_path = \"/home/ocr_proj/OCR/v09042024/line_images/test_messy\"\n"
   ]
  },
  {
   "cell_type": "code",
   "execution_count": 9,
   "metadata": {},
   "outputs": [
    {
     "name": "stdout",
     "output_type": "stream",
     "text": [
      "Directory created: /home/ocr_proj/OCR/post_correction/pe-ocr-sanskrit/data/experiment_messy_transferCheck_1x\n"
     ]
    }
   ],
   "source": [
    "\n",
    "directory = f'/home/ocr_proj/OCR/post_correction/pe-ocr-sanskrit/data/experiment_{experiment}'\n",
    "if not os.path.exists(directory):\n",
    "    os.makedirs(directory)\n",
    "    print(f\"Directory created: {directory}\")\n",
    "else:\n",
    "    print(f\"Directory already exists: {directory}\")"
   ]
  },
  {
   "cell_type": "code",
   "execution_count": 10,
   "metadata": {},
   "outputs": [],
   "source": [
    "def natural_sort_key(s):\n",
    "    return [int(c) if c.isdigit() else c.lower() for c in re.split(r'(\\d+)', s)]"
   ]
  },
  {
   "cell_type": "code",
   "execution_count": 11,
   "metadata": {},
   "outputs": [],
   "source": [
    "def process_directory(directory_path, output_dir, output_name):\n",
    "    # Read the contents of labels.txt and pred.txt\n",
    "    with open(os.path.join(directory_path, 'labels.txt'), 'r', encoding='utf-8') as f:\n",
    "        target_texts = f.read().replace('||','॥').replace('।।','॥').replace('|','।').splitlines()\n",
    "    \n",
    "    with open(os.path.join(directory_path, 'pred.txt'), 'r', encoding='utf-8') as f:\n",
    "        input_texts = f.read().replace('||','॥').replace('।।','॥').replace('|','।').splitlines()\n",
    "    \n",
    "    # Get the list of jpg files\n",
    "    jpg_files = sorted([f for f in os.listdir(directory_path) if f.endswith('.jpg')], key=natural_sort_key)\n",
    "    \n",
    "    # Create the output data\n",
    "    output_data = []\n",
    "    for i, jpg_file in enumerate(jpg_files):\n",
    "        devanagari_input_line = input_texts[i]\n",
    "        devanagari_target_line = ''.join(target_texts[i].split()[1:])\n",
    "        output_data.append({\n",
    "            'input_text': transliterate.process('Devanagari', 'IAST', devanagari_input_line),\n",
    "            'target_text': transliterate.process('Devanagari', 'IAST', devanagari_target_line),\n",
    "            'path': os.path.join(directory_path, jpg_file)\n",
    "        })\n",
    "    \n",
    "    # Write the output to a CSV file\n",
    "    output_file = os.path.join(output_dir, output_name)\n",
    "    with open(output_file, 'w', newline='', encoding='utf-8') as csvfile:\n",
    "        fieldnames = ['input_text', 'target_text', 'path']\n",
    "        writer = csv.DictWriter(csvfile, fieldnames=fieldnames,delimiter=';')\n",
    "        \n",
    "        writer.writeheader()\n",
    "        for row in output_data:\n",
    "            writer.writerow(row)\n",
    "    \n",
    "    print(f\"CSV file created: {output_file}\")"
   ]
  },
  {
   "cell_type": "code",
   "execution_count": 12,
   "metadata": {},
   "outputs": [
    {
     "name": "stdout",
     "output_type": "stream",
     "text": [
      "CSV file created: /home/ocr_proj/OCR/post_correction/pe-ocr-sanskrit/data/experiment_messy_transferCheck_1x/test_fold_1.csv\n"
     ]
    }
   ],
   "source": [
    "#process_directory(train_path,directory,output_name='train_fold_1.csv')\n",
    "process_directory(test_path,directory,output_name='test_fold_1.csv')\n",
    "#process_directory(val_path,directory,output_name='val_fold_1.csv')"
   ]
  },
  {
   "cell_type": "code",
   "execution_count": null,
   "metadata": {},
   "outputs": [],
   "source": []
  }
 ],
 "metadata": {
  "kernelspec": {
   "display_name": "ByT5",
   "language": "python",
   "name": "python3"
  },
  "language_info": {
   "codemirror_mode": {
    "name": "ipython",
    "version": 3
   },
   "file_extension": ".py",
   "mimetype": "text/x-python",
   "name": "python",
   "nbconvert_exporter": "python",
   "pygments_lexer": "ipython3",
   "version": "3.12.3"
  }
 },
 "nbformat": 4,
 "nbformat_minor": 2
}
